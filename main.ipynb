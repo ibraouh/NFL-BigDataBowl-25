{
 "cells": [
  {
   "cell_type": "markdown",
   "metadata": {},
   "source": [
    "# Project Idea\n",
    "### PART 1: Prediction of player position given the position data\n",
    "   1. Acceleration, velocity, position, number of other player same types, player type, orientation, direction, and frametype with nflid (bool to drop data) as prediction parameters\n",
    "   2. Actual position after a set period as validation data\n",
    "   3. Will focus on predicting the position based on current movement end of snap state\n",
    "   4. K-means (or K-neighbors), and Random forest can be used\n",
    "\n",
    "### Part 2: Defensive Adjustment Prediction\n",
    "Build a model that anticipates how the defense will adjust to offensive pre-snap motions, given the predictions found in part 1\n",
    "\n",
    "\n",
    "### New Idea\n",
    "Based on total movement/per-position movement/some other stuff can we predict if play type will be run or pass, how much win probabability will be added, likelihood of scoring, etc"
   ]
  },
  {
   "cell_type": "markdown",
   "metadata": {},
   "source": [
    "### Packages\n",
    "- Pandas\n",
    "- ipykernel\n",
    "- scikit-learn\n"
   ]
  }
 ],
 "metadata": {
  "kernelspec": {
   "display_name": "Python 3",
   "language": "python",
   "name": "python3"
  },
  "language_info": {
   "codemirror_mode": {
    "name": "ipython",
    "version": 3
   },
   "file_extension": ".py",
   "mimetype": "text/x-python",
   "name": "python",
   "nbconvert_exporter": "python",
   "pygments_lexer": "ipython3",
   "version": "3.12.6"
  }
 },
 "nbformat": 4,
 "nbformat_minor": 2
}
