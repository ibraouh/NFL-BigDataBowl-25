{
 "cells": [
  {
   "cell_type": "markdown",
   "metadata": {},
   "source": [
    "### Packages\n",
    "- Pamdas"
   ]
  },
  {
   "cell_type": "markdown",
   "metadata": {},
   "source": [
    "# Project Idea\n",
    "### PART 1: Prediction of player position given the position data\n",
    "   1. Acceleration, velocity, position, number of other player same types, player type, orientation, direction, and frametype with nflid (bool to drop data) as prediction parameters\n",
    "   2. Actual position after a set period as validation data\n",
    "   3. Will focus on predicting the position based on current movement end of snap state\n",
    "   4. K-means (or K-neighbors), and Random forest can be used\n",
    "\n",
    "### Part 2: Defensive Adjustment Prediction\n",
    "Build a model that anticipates how the defense will adjust to offensive pre-snap motions, given the predictions found in part 1"
   ]
  }
 ],
 "metadata": {
  "kernelspec": {
   "display_name": "Python 3",
   "language": "python",
   "name": "python3"
  },
  "language_info": {
   "codemirror_mode": {
    "name": "ipython",
    "version": 3
   },
   "file_extension": ".py",
   "mimetype": "text/x-python",
   "name": "python",
   "nbconvert_exporter": "python",
   "pygments_lexer": "ipython3",
   "version": "3.12.6"
  }
 },
 "nbformat": 4,
 "nbformat_minor": 2
}
