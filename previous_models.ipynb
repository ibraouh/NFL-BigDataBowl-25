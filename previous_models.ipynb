{
 "cells": [
  {
   "cell_type": "markdown",
   "metadata": {},
   "source": [
    "# Previous Models"
   ]
  },
  {
   "cell_type": "markdown",
   "metadata": {},
   "source": [
    "To find the best model, we had to go through multiple variations of random forest, linear regression, and other models. This file will go through some of those models. For the final model that was used, please refer to the file ```final_model.ipynb```"
   ]
  },
  {
   "cell_type": "code",
   "execution_count": 4,
   "metadata": {},
   "outputs": [],
   "source": [
    "import pandas as pd\n",
    "from sklearn.model_selection import train_test_split\n",
    "from sklearn.metrics import accuracy_score\n",
    "from sklearn.metrics import classification_report\n",
    "from sklearn.ensemble import RandomForestClassifier\n",
    "from sklearn.linear_model import LogisticRegression\n",
    "from sklearn.ensemble import GradientBoostingClassifier\n",
    "from sklearn.svm import SVC\n",
    "from sklearn.tree import DecisionTreeClassifier"
   ]
  },
  {
   "cell_type": "markdown",
   "metadata": {},
   "source": [
    "## Random forest on all features with total distance"
   ]
  },
  {
   "cell_type": "code",
   "execution_count": 5,
   "metadata": {},
   "outputs": [],
   "source": [
    "# Load and preprocess data\n",
    "constructedData = pd.read_csv('Combining Data/combined_data.csv')\n",
    "categoricalFeatures = ['pff_passCoverage', 'pff_manZone']\n",
    "decisionTreeData = pd.get_dummies(constructedData, columns=categoricalFeatures)\n",
    "\n",
    "# Define features and target\n",
    "featureHeaders = ['totalDistanceTraveledByPossessionTeam', 'absoluteYardlineNumber', 'quarter', 'down', 'yardsToGo',\n",
    "                  'pff_passCoverage_2-Man', 'pff_passCoverage_Bracket', 'pff_passCoverage_Cover 6-Left',\n",
    "                  'pff_passCoverage_Cover-0', 'pff_passCoverage_Cover-1', 'pff_passCoverage_Cover-1 Double',\n",
    "                  'pff_passCoverage_Cover-2', 'pff_passCoverage_Cover-3', 'pff_passCoverage_Cover-3 Cloud Left',\n",
    "                  'pff_passCoverage_Cover-3 Cloud Right', 'pff_passCoverage_Cover-3 Double Cloud',\n",
    "                  'pff_passCoverage_Cover-3 Seam', 'pff_passCoverage_Cover-6 Right', 'pff_passCoverage_Goal Line',\n",
    "                  'pff_passCoverage_Miscellaneous', 'pff_passCoverage_Prevent', 'pff_passCoverage_Quarters',\n",
    "                  'pff_passCoverage_Red Zone', 'pff_manZone_Man', 'pff_manZone_Other', 'pff_manZone_Zone']\n",
    "X = decisionTreeData[featureHeaders]\n",
    "y = decisionTreeData['isDropback']\n",
    "\n",
    "# Train-test split\n",
    "XTrain, XTest, yTrain, yTest = train_test_split(X, y, test_size=0.3, random_state=42)"
   ]
  },
  {
   "cell_type": "code",
   "execution_count": 6,
   "metadata": {},
   "outputs": [
    {
     "name": "stdout",
     "output_type": "stream",
     "text": [
      "=== Decision Tree Classifier ===\n",
      "Accuracy of Decision Tree: 63%\n",
      "\n",
      "=== Random Forest Classifier ===\n",
      "Accuracy of Random Forest: 65%\n"
     ]
    }
   ],
   "source": [
    "# Decision Tree Classifier (Baseline)\n",
    "print(\"=== Decision Tree Classifier ===\")\n",
    "clfObj = DecisionTreeClassifier(max_depth=3)\n",
    "clf = clfObj.fit(XTrain, yTrain)\n",
    "yPred = clf.predict(XTest)\n",
    "print(f\"Accuracy of Decision Tree: {int(accuracy_score(yTest, yPred)*100)}%\")\n",
    "\n",
    "# Random Forest Classifier\n",
    "print(\"\\n=== Random Forest Classifier ===\")\n",
    "rf = RandomForestClassifier(n_estimators=100, random_state=42, bootstrap=True)\n",
    "rf.fit(XTrain, yTrain)\n",
    "yPredRF = rf.predict(XTest)\n",
    "print(f\"Accuracy of Random Forest: {int(accuracy_score(yTest, yPredRF)*100)}%\")"
   ]
  },
  {
   "cell_type": "markdown",
   "metadata": {},
   "source": [
    "## Random Forest on all distances for each player position"
   ]
  },
  {
   "cell_type": "markdown",
   "metadata": {},
   "source": [
    "### For all positions"
   ]
  },
  {
   "cell_type": "code",
   "execution_count": 8,
   "metadata": {},
   "outputs": [],
   "source": [
    "# Load and preprocess data\n",
    "constructedData = pd.read_csv('Combining Data/combined_data.csv')\n",
    "categoricalFeatures = ['pff_passCoverage', 'pff_manZone']\n",
    "decisionTreeData = pd.get_dummies(constructedData, columns=categoricalFeatures)\n",
    "\n",
    "# Define features and target\n",
    "featureHeaders = ['distance_C', 'distance_DT', 'distance_FB', 'distance_FS', 'distance_G', 'distance_ILB', 'distance_OLB', 'distance_QB', \n",
    "                  'absoluteYardlineNumber', 'quarter', 'down', 'yardsToGo',\n",
    "                  'pff_passCoverage_2-Man', 'pff_passCoverage_Bracket', 'pff_passCoverage_Cover 6-Left',\n",
    "                  'pff_passCoverage_Cover-0', 'pff_passCoverage_Cover-1', 'pff_passCoverage_Cover-1 Double',\n",
    "                  'pff_passCoverage_Cover-2', 'pff_passCoverage_Cover-3', 'pff_passCoverage_Cover-3 Cloud Left',\n",
    "                  'pff_passCoverage_Cover-3 Cloud Right', 'pff_passCoverage_Cover-3 Double Cloud',\n",
    "                  'pff_passCoverage_Cover-3 Seam', 'pff_passCoverage_Cover-6 Right', 'pff_passCoverage_Goal Line',\n",
    "                  'pff_passCoverage_Miscellaneous', 'pff_passCoverage_Prevent', 'pff_passCoverage_Quarters',\n",
    "                  'pff_passCoverage_Red Zone', 'pff_manZone_Man', 'pff_manZone_Other', 'pff_manZone_Zone']\n",
    "X = decisionTreeData[featureHeaders]\n",
    "y = decisionTreeData['isDropback']\n",
    "\n",
    "# Train-test split\n",
    "XTrain, XTest, yTrain, yTest = train_test_split(X, y, test_size=0.3, random_state=42)"
   ]
  },
  {
   "cell_type": "markdown",
   "metadata": {},
   "source": [
    "### For 3 most important positions"
   ]
  },
  {
   "cell_type": "code",
   "execution_count": 10,
   "metadata": {},
   "outputs": [],
   "source": [
    "# Load and preprocess data\n",
    "constructedData = pd.read_csv('Combining Data/combined_data.csv')\n",
    "categoricalFeatures = ['pff_passCoverage', 'pff_manZone']\n",
    "decisionTreeData = pd.get_dummies(constructedData, columns=categoricalFeatures)\n",
    "\n",
    "# Define features and target\n",
    "featureHeaders = ['distance_RB', 'distance_QB', 'distance_WR',\n",
    "                  'absoluteYardlineNumber', 'quarter', 'down', 'yardsToGo',\n",
    "                  'pff_passCoverage_2-Man', 'pff_passCoverage_Bracket', 'pff_passCoverage_Cover 6-Left',\n",
    "                  'pff_passCoverage_Cover-0', 'pff_passCoverage_Cover-1', 'pff_passCoverage_Cover-1 Double',\n",
    "                  'pff_passCoverage_Cover-2', 'pff_passCoverage_Cover-3', 'pff_passCoverage_Cover-3 Cloud Left',\n",
    "                  'pff_passCoverage_Cover-3 Cloud Right', 'pff_passCoverage_Cover-3 Double Cloud',\n",
    "                  'pff_passCoverage_Cover-3 Seam', 'pff_passCoverage_Cover-6 Right', 'pff_passCoverage_Goal Line',\n",
    "                  'pff_passCoverage_Miscellaneous', 'pff_passCoverage_Prevent', 'pff_passCoverage_Quarters',\n",
    "                  'pff_passCoverage_Red Zone', 'pff_manZone_Man', 'pff_manZone_Other', 'pff_manZone_Zone']\n",
    "X = decisionTreeData[featureHeaders]\n",
    "y = decisionTreeData['isDropback']\n",
    "\n",
    "# Train-test split\n",
    "XTrain, XTest, yTrain, yTest = train_test_split(X, y, test_size=0.3, random_state=42)"
   ]
  },
  {
   "cell_type": "markdown",
   "metadata": {},
   "source": [
    "### Random forest"
   ]
  },
  {
   "cell_type": "code",
   "execution_count": 11,
   "metadata": {},
   "outputs": [
    {
     "name": "stdout",
     "output_type": "stream",
     "text": [
      "\n",
      "=== Random Forest Classifier ===\n",
      "Accuracy of Random Forest: 69%\n",
      "              precision    recall  f1-score   support\n",
      "\n",
      "       False       0.63      0.54      0.58      1933\n",
      "        True       0.72      0.79      0.76      2905\n",
      "\n",
      "    accuracy                           0.69      4838\n",
      "   macro avg       0.68      0.67      0.67      4838\n",
      "weighted avg       0.69      0.69      0.69      4838\n",
      "\n"
     ]
    }
   ],
   "source": [
    "# Random Forest Classifier\n",
    "print(\"\\n=== Random Forest Classifier ===\")\n",
    "rf = RandomForestClassifier(n_estimators=100, random_state=42, bootstrap=True, class_weight='balanced')\n",
    "rf.fit(XTrain, yTrain)\n",
    "yPredRF = rf.predict(XTest)\n",
    "print(f\"Accuracy of Random Forest: {int(accuracy_score(yTest, yPredRF)*100)}%\")\n",
    "\n",
    "\n",
    "print(classification_report(yTest, yPredRF))"
   ]
  },
  {
   "cell_type": "markdown",
   "metadata": {},
   "source": [
    "## Random forest on each player position"
   ]
  },
  {
   "cell_type": "code",
   "execution_count": 12,
   "metadata": {},
   "outputs": [
    {
     "name": "stdout",
     "output_type": "stream",
     "text": [
      "\n",
      "=== Evaluating with feature: distance_C ===\n",
      "Accuracy with distance_C: 65.65%\n",
      "\n",
      "=== Evaluating with feature: distance_DT ===\n",
      "Accuracy with distance_DT: 63.95%\n",
      "\n",
      "=== Evaluating with feature: distance_FB ===\n",
      "Accuracy with distance_FB: 64.10%\n",
      "\n",
      "=== Evaluating with feature: distance_FS ===\n",
      "Accuracy with distance_FS: 64.01%\n",
      "\n",
      "=== Evaluating with feature: distance_G ===\n",
      "Accuracy with distance_G: 64.41%\n",
      "\n",
      "=== Evaluating with feature: distance_ILB ===\n",
      "Accuracy with distance_ILB: 64.10%\n",
      "\n",
      "=== Evaluating with feature: distance_OLB ===\n",
      "Accuracy with distance_OLB: 64.12%\n",
      "\n",
      "=== Evaluating with feature: distance_QB ===\n",
      "Accuracy with distance_QB: 66.31%\n",
      "\n",
      "=== Evaluating with feature: distance_RB ===\n",
      "Accuracy with distance_RB: 66.85%\n",
      "\n",
      "=== Evaluating with feature: distance_T ===\n",
      "Accuracy with distance_T: 65.52%\n",
      "\n",
      "=== Evaluating with feature: distance_TE ===\n",
      "Accuracy with distance_TE: 65.87%\n",
      "\n",
      "=== Evaluating with feature: distance_WR ===\n",
      "Accuracy with distance_WR: 66.33%\n"
     ]
    }
   ],
   "source": [
    "constructedData = pd.read_csv('Combining Data/combined_data.csv')\n",
    "categoricalFeatures = ['pff_passCoverage', 'pff_manZone']\n",
    "decisionTreeData = pd.get_dummies(constructedData, columns=categoricalFeatures)\n",
    "\n",
    "base_features = ['absoluteYardlineNumber', 'quarter', 'down', 'yardsToGo',\n",
    "                 'pff_passCoverage_2-Man', 'pff_passCoverage_Bracket', 'pff_passCoverage_Cover 6-Left',\n",
    "                 'pff_passCoverage_Cover-0', 'pff_passCoverage_Cover-1', 'pff_passCoverage_Cover-1 Double',\n",
    "                 'pff_passCoverage_Cover-2', 'pff_passCoverage_Cover-3', 'pff_passCoverage_Cover-3 Cloud Left',\n",
    "                 'pff_passCoverage_Cover-3 Cloud Right', 'pff_passCoverage_Cover-3 Double Cloud',\n",
    "                 'pff_passCoverage_Cover-3 Seam', 'pff_passCoverage_Cover-6 Right', 'pff_passCoverage_Goal Line',\n",
    "                 'pff_passCoverage_Miscellaneous', 'pff_passCoverage_Prevent', 'pff_passCoverage_Quarters',\n",
    "                 'pff_passCoverage_Red Zone', 'pff_manZone_Man', 'pff_manZone_Other', 'pff_manZone_Zone']\n",
    "\n",
    "# Identify distance features\n",
    "distance_features = [col for col in decisionTreeData.columns if col.startswith('distance_')]\n",
    "results = {}\n",
    "\n",
    "# Loop through each distance feature\n",
    "for distance_feature in distance_features:\n",
    "    print(f\"\\n=== Evaluating with feature: {distance_feature} ===\")\n",
    "    \n",
    "    featureHeaders = [distance_feature] + base_features\n",
    "    X = decisionTreeData[featureHeaders]\n",
    "    y = decisionTreeData['isDropback']\n",
    "    XTrain, XTest, yTrain, yTest = train_test_split(X, y, test_size=0.3, random_state=42)\n",
    "\n",
    "    rf = RandomForestClassifier(n_estimators=100, random_state=42, bootstrap=True)\n",
    "    rf.fit(XTrain, yTrain)\n",
    "    yPredRF = rf.predict(XTest)\n",
    "    accuracy = accuracy_score(yTest, yPredRF)\n",
    "    \n",
    "    results[distance_feature] = accuracy\n",
    "    print(f\"Accuracy with {distance_feature}: {accuracy*100:.2f}%\")\n",
    "\n"
   ]
  }
 ],
 "metadata": {
  "kernelspec": {
   "display_name": "Python 3",
   "language": "python",
   "name": "python3"
  },
  "language_info": {
   "codemirror_mode": {
    "name": "ipython",
    "version": 3
   },
   "file_extension": ".py",
   "mimetype": "text/x-python",
   "name": "python",
   "nbconvert_exporter": "python",
   "pygments_lexer": "ipython3",
   "version": "3.9.6"
  }
 },
 "nbformat": 4,
 "nbformat_minor": 2
}
