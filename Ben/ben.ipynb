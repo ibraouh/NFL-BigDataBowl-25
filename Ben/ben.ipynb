{
 "cells": [
  {
   "cell_type": "code",
   "execution_count": null,
   "metadata": {},
   "outputs": [],
   "source": [
    "import pandas as pd\n",
    "import numpy as np\n",
    "from sklearn.model_selection import train_test_split\n",
    "from sklearn.tree import DecisionTreeClassifier\n",
    "from sklearn import metrics"
   ]
  },
  {
   "cell_type": "code",
   "execution_count": 16,
   "metadata": {},
   "outputs": [],
   "source": [
    "games = pd.read_csv('/Users/castle/cisc5790/NFL Big Data Bowl (Final Proj)/nfl-big-data-bowl-2025/games.csv')"
   ]
  },
  {
   "cell_type": "code",
   "execution_count": null,
   "metadata": {},
   "outputs": [
    {
     "name": "stdout",
     "output_type": "stream",
     "text": [
      "Index(['gameId', 'season', 'week', 'gameDate', 'gameTimeEastern',\n",
      "       'homeTeamAbbr', 'visitorTeamAbbr', 'homeFinalScore',\n",
      "       'visitorFinalScore'],\n",
      "      dtype='object')\n"
     ]
    }
   ],
   "source": []
  },
  {
   "cell_type": "code",
   "execution_count": 18,
   "metadata": {},
   "outputs": [],
   "source": [
    "week1 = pd.read_csv('/Users/castle/cisc5790/NFL Big Data Bowl (Final Proj)/nfl-big-data-bowl-2025/tracking_week_1.csv')"
   ]
  },
  {
   "cell_type": "code",
   "execution_count": 21,
   "metadata": {},
   "outputs": [
    {
     "name": "stdout",
     "output_type": "stream",
     "text": [
      "Index(['gameId', 'playId', 'nflId', 'displayName', 'frameId', 'frameType',\n",
      "       'time', 'jerseyNumber', 'club', 'playDirection', 'x', 'y', 's', 'a',\n",
      "       'dis', 'o', 'dir', 'event'],\n",
      "      dtype='object')\n",
      "Index(['gameId', 'playId', 'nflId', 'frameId', 'frameType', 'time', 'club',\n",
      "       'playDirection', 'x', 'y', 's', 'a', 'dis', 'o', 'dir', 'event'],\n",
      "      dtype='object')\n"
     ]
    }
   ],
   "source": [
    "print(week1.columns)\n",
    "week1Trimmed = week1.drop(['displayName', 'jerseyNumber'], axis=1)\n",
    "print(week1Trimmed.columns)"
   ]
  },
  {
   "cell_type": "code",
   "execution_count": 32,
   "metadata": {},
   "outputs": [],
   "source": [
    "plays = pd.read_csv('/Users/castle/cisc5790/NFL Big Data Bowl (Final Proj)/nfl-big-data-bowl-2025/plays.csv')"
   ]
  },
  {
   "cell_type": "code",
   "execution_count": 41,
   "metadata": {},
   "outputs": [
    {
     "name": "stdout",
     "output_type": "stream",
     "text": [
      "        gameId  playId                                    playDescription  \\\n",
      "38  2022103007    2474  (9:05) (No Huddle, Shotgun) D.Harris up the mi...   \n",
      "\n",
      "    quarter  down  yardsToGo possessionTeam defensiveTeam yardlineSide  \\\n",
      "38        3     2          4             NE           NYJ           NE   \n",
      "\n",
      "    yardlineNumber  ... yardsGained  homeTeamWinProbabilityAdded  \\\n",
      "38              41  ...           7                    -0.013258   \n",
      "\n",
      "    visitorTeamWinProbilityAdded expectedPointsAdded  isDropback  \\\n",
      "38                      0.013258             0.73122       False   \n",
      "\n",
      "    pff_runConceptPrimary  pff_runConceptSecondary  pff_runPassOption  \\\n",
      "38            INSIDE ZONE                      NaN                  1   \n",
      "\n",
      "   pff_passCoverage pff_manZone  \n",
      "38     Cover 6-Left        Zone  \n",
      "\n",
      "[1 rows x 50 columns]\n"
     ]
    }
   ],
   "source": [
    "print(plays.loc[(plays['gameId'] == 2022103007) & (plays['playId'] == 2474)])"
   ]
  },
  {
   "cell_type": "code",
   "execution_count": 44,
   "metadata": {},
   "outputs": [
    {
     "name": "stdout",
     "output_type": "stream",
     "text": [
      "Index(['gameId', 'playId', 'playDescription', 'quarter', 'down', 'yardsToGo',\n",
      "       'possessionTeam', 'defensiveTeam', 'yardlineSide', 'yardlineNumber',\n",
      "       'gameClock', 'preSnapHomeScore', 'preSnapVisitorScore',\n",
      "       'playNullifiedByPenalty', 'absoluteYardlineNumber',\n",
      "       'preSnapHomeTeamWinProbability', 'preSnapVisitorTeamWinProbability',\n",
      "       'expectedPoints', 'offenseFormation', 'receiverAlignment',\n",
      "       'playClockAtSnap', 'passResult', 'passLength', 'targetX', 'targetY',\n",
      "       'playAction', 'dropbackType', 'dropbackDistance', 'passLocationType',\n",
      "       'timeToThrow', 'timeInTackleBox', 'timeToSack', 'passTippedAtLine',\n",
      "       'unblockedPressure', 'qbSpike', 'qbKneel', 'qbSneak',\n",
      "       'rushLocationType', 'penaltyYards', 'prePenaltyYardsGained',\n",
      "       'yardsGained', 'homeTeamWinProbabilityAdded',\n",
      "       'visitorTeamWinProbilityAdded', 'expectedPointsAdded', 'isDropback',\n",
      "       'pff_runConceptPrimary', 'pff_runConceptSecondary', 'pff_runPassOption',\n",
      "       'pff_passCoverage', 'pff_manZone'],\n",
      "      dtype='object')\n",
      "Index(['gameId', 'playId', 'playDescription', 'possessionTeam', 'passResult',\n",
      "       'passLength', 'isDropback', 'rushLocationType',\n",
      "       'homeTeamWinProbabilityAdded', 'visitorTeamWinProbilityAdded',\n",
      "       'expectedPointsAdded', 'pff_runConceptPrimary',\n",
      "       'pff_runConceptSecondary', 'pff_runPassOption', 'pff_passCoverage',\n",
      "       'pff_manZone'],\n",
      "      dtype='object')\n"
     ]
    }
   ],
   "source": [
    "print(plays.columns)\n",
    "trimmedPlayDataHeaders = ['gameId', 'playId', 'playDescription', 'possessionTeam', 'passResult', 'passLength', 'isDropback', 'rushLocationType',\n",
    "                          'homeTeamWinProbabilityAdded', 'visitorTeamWinProbilityAdded', 'expectedPointsAdded', 'pff_runConceptPrimary',\n",
    "                          'pff_runConceptSecondary', 'pff_runPassOption', 'pff_passCoverage', 'pff_manZone']\n",
    "trimmedPlayData = plays[trimmedPlayDataHeaders]\n",
    "print(trimmedPlayData.columns)"
   ]
  },
  {
   "cell_type": "code",
   "execution_count": null,
   "metadata": {},
   "outputs": [],
   "source": [
    "X = abeConstructedData[:, :-1]\n",
    "y = abeConstructedData[:, -1]\n",
    "XTrain, XTest, yTrain, yTest = train_test_split(X, y, test_size=0.3, random_state=42)\n",
    "clfObj = DecisionTreeClassifier()\n",
    "clf = clfObj.fit(XTrain, yTrain)\n",
    "\n",
    "yPred = clf.predict(XTest)"
   ]
  }
 ],
 "metadata": {
  "kernelspec": {
   "display_name": ".venv",
   "language": "python",
   "name": "python3"
  },
  "language_info": {
   "codemirror_mode": {
    "name": "ipython",
    "version": 3
   },
   "file_extension": ".py",
   "mimetype": "text/x-python",
   "name": "python",
   "nbconvert_exporter": "python",
   "pygments_lexer": "ipython3",
   "version": "3.12.6"
  }
 },
 "nbformat": 4,
 "nbformat_minor": 2
}
