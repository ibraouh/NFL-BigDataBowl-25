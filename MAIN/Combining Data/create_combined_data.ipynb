{
 "cells": [
  {
   "cell_type": "code",
   "execution_count": 1,
   "metadata": {},
   "outputs": [],
   "source": [
    "import pandas as pd\n",
    "\n",
    "# Importing all the files data\n",
    "games = pd.read_csv(\"Data/games.csv\")\n",
    "players = pd.read_csv(\"Data/players.csv\")\n",
    "plays = pd.read_csv(\"Data/plays.csv\")\n",
    "\n",
    "week1 = pd.read_csv(\"Data/tracking_week_1.csv\")\n",
    "week2 = pd.read_csv(\"Data/tracking_week_2.csv\")\n",
    "week3 = pd.read_csv(\"Data/tracking_week_3.csv\")\n",
    "week4 = pd.read_csv(\"Data/tracking_week_4.csv\")\n",
    "week5 = pd.read_csv(\"Data/tracking_week_5.csv\")\n",
    "week6 = pd.read_csv(\"Data/tracking_week_6.csv\")\n",
    "week7 = pd.read_csv(\"Data/tracking_week_7.csv\")\n",
    "week8 = pd.read_csv(\"Data/tracking_week_8.csv\")\n",
    "week9 = pd.read_csv(\"Data/tracking_week_9.csv\")\n",
    "\n",
    "tracking_all_weeks = pd.concat(\n",
    "    [week1, week2, week3, week4, week5, week6, week7, week8, week9], ignore_index=True\n",
    ")"
   ]
  },
  {
   "cell_type": "code",
   "execution_count": 2,
   "metadata": {},
   "outputs": [],
   "source": [
    "# Selecting specific features\n",
    "players_selected = players[[\"nflId\", \"displayName\", \"position\"]]\n",
    "games_selected = games[[\"gameId\", \"homeTeamAbbr\", \"visitorTeamAbbr\"]]\n",
    "plays_selected = plays[\n",
    "    [\n",
    "        \"gameId\",\n",
    "        \"playId\",\n",
    "        \"possessionTeam\",\n",
    "        \"passResult\",\n",
    "        \"passLength\",\n",
    "        \"isDropback\",\n",
    "        \"rushLocationType\",\n",
    "        \"homeTeamWinProbabilityAdded\",\n",
    "        \"visitorTeamWinProbilityAdded\",\n",
    "        \"expectedPointsAdded\",\n",
    "        \"pff_runConceptPrimary\",\n",
    "        \"pff_runConceptSecondary\",\n",
    "        \"pff_runPassOption\",\n",
    "        \"pff_passCoverage\",\n",
    "        \"pff_manZone\",\n",
    "        \"absoluteYardlineNumber\",\n",
    "        \"quarter\",\n",
    "        \"down\",\n",
    "        \"yardsToGo\",\n",
    "        \"playDescription\",\n",
    "    ]\n",
    "]\n",
    "\n",
    "# Merging game and play data\n",
    "merged_data = pd.merge(games_selected, plays_selected, on=\"gameId\")\n",
    "merged_data_sorted = merged_data.sort_values(by=[\"gameId\", \"playId\"])\n",
    "\n",
    "# Merging tracking data with possession team\n",
    "tracking_with_possession = pd.merge(\n",
    "    tracking_all_weeks,\n",
    "    merged_data_sorted[[\"gameId\", \"playId\", \"possessionTeam\"]],\n",
    "    on=[\"gameId\", \"playId\"],\n",
    ")\n",
    "\n",
    "# Add player position information to tracking data\n",
    "tracking_with_position = pd.merge(\n",
    "    # tracking_possession_team,\n",
    "    tracking_with_possession,\n",
    "    players_selected,\n",
    "    on=\"nflId\",\n",
    "    how=\"left\",\n",
    ")"
   ]
  },
  {
   "cell_type": "code",
   "execution_count": 17,
   "metadata": {},
   "outputs": [],
   "source": [
    "# Filter rows where the possession team matches the club and frameType is BEFORE_SNAP\n",
    "tracking_with_position = tracking_with_position[\n",
    "    (tracking_with_position[\"club\"] == tracking_with_position[\"possessionTeam\"])\n",
    "    & (tracking_with_position[\"frameType\"] == \"BEFORE_SNAP\")\n",
    "              ]"
   ]
  },
  {
   "cell_type": "code",
   "execution_count": 24,
   "metadata": {},
   "outputs": [],
   "source": [
    "# Calculate total distance traveled by possession team during a play\n",
    "total_distance_possession_team = (\n",
    "    tracking_with_position.groupby([\"gameId\", \"playId\"])[\"dis\"]\n",
    "    .sum()\n",
    "    .reset_index()\n",
    "    .rename(columns={\"dis\": \"totalDistanceTraveledByPossessionTeam\"})\n",
    ")\n",
    "\n",
    "# Calculate distances traveled for each position during a play\n",
    "distance_by_position = (\n",
    "    tracking_with_position.groupby([\"gameId\", \"playId\", \"position\"])[\"dis\"]\n",
    "    .sum()\n",
    "    .reset_index()\n",
    ")"
   ]
  },
  {
   "cell_type": "code",
   "execution_count": 25,
   "metadata": {},
   "outputs": [
    {
     "name": "stdout",
     "output_type": "stream",
     "text": [
      "Number of rows with NaN in 'dis': 0\n"
     ]
    }
   ],
   "source": [
    "na_count = distance_by_position[\"dis\"].isna().sum()\n",
    "print(f\"Number of rows with NaN in 'dis': {na_count}\")"
   ]
  },
  {
   "cell_type": "code",
   "execution_count": 26,
   "metadata": {},
   "outputs": [],
   "source": [
    "distance_by_position = (\n",
    "    tracking_with_position.groupby([\"gameId\", \"playId\", \"position\"])[\"dis\"]\n",
    "    .sum()\n",
    "    .reset_index()\n",
    ")\n",
    "\n",
    "# Pivot the data to get distances for each position as columns\n",
    "distance_by_position_pivot = distance_by_position.pivot(\n",
    "    index=[\"gameId\", \"playId\"], columns=\"position\", values=\"dis\"\n",
    ").fillna(0)\n",
    "\n",
    "# Rename columns for clarity\n",
    "distance_by_position_pivot.columns = [\n",
    "    f\"distance_{pos}\" for pos in distance_by_position_pivot.columns\n",
    "]\n",
    "distance_by_position_pivot = distance_by_position_pivot.reset_index()\n",
    "\n",
    "# Merge position distances and total possession distance into the main data\n",
    "combined_data_with_distance = pd.merge(\n",
    "    merged_data_sorted, distance_by_position_pivot, on=[\"gameId\", \"playId\"], how=\"left\"\n",
    ")\n",
    "combined_data_with_distance = pd.merge(\n",
    "    combined_data_with_distance,\n",
    "    total_distance_possession_team,\n",
    "    on=[\"gameId\", \"playId\"],\n",
    "    how=\"left\",\n",
    ")"
   ]
  },
  {
   "cell_type": "code",
   "execution_count": 27,
   "metadata": {},
   "outputs": [],
   "source": [
    "# Reordering data for better visibility\n",
    "columns_order = (\n",
    "    [\"gameId\", \"playId\", \"totalDistanceTraveledByPossessionTeam\"]\n",
    "    + [\n",
    "        col\n",
    "        for col in combined_data_with_distance.columns\n",
    "        if col.startswith(\"distance_\")\n",
    "    ]\n",
    "    + [\n",
    "        col\n",
    "        for col in merged_data_sorted.columns\n",
    "        if col not in [\"gameId\", \"playId\", \"totalDistanceTraveledByPossessionTeam\"]\n",
    "    ]\n",
    ")\n",
    "merged_data_reordered = combined_data_with_distance[columns_order]\n",
    "\n",
    "# Exporting the file\n",
    "output_file = \"combined_data.csv\"\n",
    "merged_data_reordered.to_csv(output_file, index=False)"
   ]
  }
 ],
 "metadata": {
  "kernelspec": {
   "display_name": "Python 3",
   "language": "python",
   "name": "python3"
  },
  "language_info": {
   "codemirror_mode": {
    "name": "ipython",
    "version": 3
   },
   "file_extension": ".py",
   "mimetype": "text/x-python",
   "name": "python",
   "nbconvert_exporter": "python",
   "pygments_lexer": "ipython3",
   "version": "3.9.6"
  }
 },
 "nbformat": 4,
 "nbformat_minor": 2
}
