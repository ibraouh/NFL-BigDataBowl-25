{
 "cells": [
  {
   "cell_type": "code",
   "execution_count": null,
   "metadata": {},
   "outputs": [],
   "source": [
    "# Packages\n",
    "import pandas as pd\n",
    "import numpy as np"
   ]
  },
  {
   "cell_type": "code",
   "execution_count": null,
   "metadata": {},
   "outputs": [],
   "source": [
    "games = pd.read_csv('../../Data/games.csv')\n",
    "players = pd.read_csv('../../Data/players.csv')\n",
    "plays = pd.read_csv('../../Data/plays.csv')\n",
    "\n",
    "week1 = pd.read_csv('../../Data/tracking_week_1.csv')\n",
    "week2 = pd.read_csv('../../Data/tracking_week_2.csv')\n",
    "week3 = pd.read_csv('../../Data/tracking_week_3.csv')\n",
    "week4 = pd.read_csv('../../Data/tracking_week_4.csv')\n",
    "week5 = pd.read_csv('../../Data/tracking_week_5.csv')\n",
    "week6 = pd.read_csv('../../Data/tracking_week_6.csv')\n",
    "week7 = pd.read_csv('../../Data/tracking_week_7.csv')\n",
    "week8 = pd.read_csv('../../Data/tracking_week_8.csv')\n",
    "week9 = pd.read_csv('../../Data/tracking_week_9.csv')\n",
    "\n",
    "players_selected = players[['nflId', 'displayName', 'position']]\n",
    "games_selected = games[['gameId', 'homeTeamAbbr', 'visitorTeamAbbr']]\n",
    "plays_selected = plays[['gameId', 'playId', 'possessionTeam', 'passResult', 'passLength', 'isDropback', 'rushLocationType', 'homeTeamWinProbabilityAdded', 'visitorTeamWinProbilityAdded', 'expectedPointsAdded', 'pff_runConceptPrimary', 'pff_runConceptSecondary', 'pff_runPassOption', 'pff_passCoverage', 'pff_manZone', 'playDescription']]\n",
    "\n",
    "merged_data = pd.merge(games_selected, plays_selected, on='gameId')\n",
    "merged_data_sorted = merged_data.sort_values(by=['gameId', 'playId'])"
   ]
  },
  {
   "cell_type": "code",
   "execution_count": 39,
   "metadata": {},
   "outputs": [
    {
     "name": "stdout",
     "output_type": "stream",
     "text": [
      "       gameId  playId  totalDistanceTraveled homeTeamAbbr visitorTeamAbbr  \\\n",
      "0  2022090800      56                 486.70           LA             BUF   \n",
      "1  2022090800      80                 463.01           LA             BUF   \n",
      "2  2022090800     101                 480.78           LA             BUF   \n",
      "3  2022090800     122                 636.51           LA             BUF   \n",
      "4  2022090800     167                 429.71           LA             BUF   \n",
      "\n",
      "  possessionTeam passResult  passLength  isDropback rushLocationType  \\\n",
      "0            BUF          C         5.0        True              NaN   \n",
      "1            BUF          R         NaN        True     INSIDE_RIGHT   \n",
      "2            BUF        NaN         NaN       False     INSIDE_RIGHT   \n",
      "3            BUF          C        -3.0        True              NaN   \n",
      "4            BUF          C         6.0        True              NaN   \n",
      "\n",
      "   homeTeamWinProbabilityAdded  visitorTeamWinProbilityAdded  \\\n",
      "0                    -0.000031                      0.000031   \n",
      "1                    -0.013497                      0.013497   \n",
      "2                    -0.014850                      0.014850   \n",
      "3                    -0.019032                      0.019032   \n",
      "4                    -0.031870                      0.031870   \n",
      "\n",
      "   expectedPointsAdded pff_runConceptPrimary pff_runConceptSecondary  \\\n",
      "0             0.004420                   NaN                     NaN   \n",
      "1             0.823571                   NaN                     NaN   \n",
      "2             0.562363          OUTSIDE ZONE                    LEAD   \n",
      "3             0.399209                   NaN                     NaN   \n",
      "4             1.373441                   NaN                     NaN   \n",
      "\n",
      "   pff_runPassOption pff_passCoverage pff_manZone  \\\n",
      "0                  0     Cover 6-Left        Zone   \n",
      "1                  0     Cover 6-Left        Zone   \n",
      "2                  0    Cover-6 Right        Zone   \n",
      "3                  0          Cover-3        Zone   \n",
      "4                  0          Cover-3        Zone   \n",
      "\n",
      "                                     playDescription  \n",
      "0  (15:00) (Shotgun) J.Allen pass short right to ...  \n",
      "1  (14:29) (No Huddle, Shotgun) J.Allen scrambles...  \n",
      "2  (13:54) D.Singletary right end to BUF 45 for 7...  \n",
      "3  (13:15) (Shotgun) J.Allen pass short right to ...  \n",
      "4  (11:54) (Shotgun) J.Allen pass short middle to...  \n"
     ]
    }
   ],
   "source": [
    "tracking_all_weeks = pd.concat([week1, week2, week3, week4, week5, week6, week7, week8, week9], ignore_index=True)\n",
    "\n",
    "total_distance_per_play = (\n",
    "    tracking_all_weeks.groupby(['gameId', 'playId'])['dis']\n",
    "    .sum()\n",
    "    .reset_index()\n",
    "    .rename(columns={'dis': 'totalDistanceTraveled'})\n",
    ")\n",
    "\n",
    "combined_data_with_distance = pd.merge(merged_data_sorted, total_distance_per_play, on=['gameId', 'playId'], how='left')\n",
    "\n",
    "# Reordering data for better visibility\n",
    "columns_order = ['gameId', 'playId', 'totalDistanceTraveled'] + [\n",
    "    col for col in merged_data_sorted.columns if col not in ['gameId', 'playId', 'totalDistanceTraveled']\n",
    "]\n",
    "merged_data_reordered = combined_data_with_distance[columns_order]\n",
    "\n",
    "\n",
    "output_file = 'combined_data.csv'\n",
    "merged_data_reordered.to_csv(output_file, index=False)\n",
    "\n",
    "combined_data = pd.read_csv(output_file)\n",
    "# print(combined_data.head())"
   ]
  }
 ],
 "metadata": {
  "kernelspec": {
   "display_name": "Python 3",
   "language": "python",
   "name": "python3"
  },
  "language_info": {
   "codemirror_mode": {
    "name": "ipython",
    "version": 3
   },
   "file_extension": ".py",
   "mimetype": "text/x-python",
   "name": "python",
   "nbconvert_exporter": "python",
   "pygments_lexer": "ipython3",
   "version": "3.9.6"
  }
 },
 "nbformat": 4,
 "nbformat_minor": 2
}
