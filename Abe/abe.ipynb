{
 "cells": [
  {
   "cell_type": "code",
   "execution_count": null,
   "metadata": {},
   "outputs": [],
   "source": [
    "# Packages\n",
    "import pandas as pd\n",
    "import numpy as np"
   ]
  },
  {
   "cell_type": "code",
   "execution_count": null,
   "metadata": {},
   "outputs": [],
   "source": [
    "games = pd.read_csv('../../Data/games.csv')\n",
    "players = pd.read_csv('../../Data/players.csv')\n",
    "plays = pd.read_csv('../../Data/plays.csv')\n",
    "\n",
    "week1 = pd.read_csv('../../Data/tracking_week_1.csv')\n",
    "week2 = pd.read_csv('../../Data/tracking_week_2.csv')\n",
    "week3 = pd.read_csv('../../Data/tracking_week_3.csv')\n",
    "week4 = pd.read_csv('../../Data/tracking_week_4.csv')\n",
    "week5 = pd.read_csv('../../Data/tracking_week_5.csv')\n",
    "week6 = pd.read_csv('../../Data/tracking_week_6.csv')\n",
    "week7 = pd.read_csv('../../Data/tracking_week_7.csv')\n",
    "week8 = pd.read_csv('../../Data/tracking_week_8.csv')\n",
    "week9 = pd.read_csv('../../Data/tracking_week_9.csv')\n",
    "\n",
    "players_selected = players[['nflId', 'displayName', 'position']]\n",
    "games_selected = games[['gameId', 'homeTeamAbbr', 'visitorTeamAbbr']]\n",
    "plays_selected = plays[['gameId', 'playId', 'possessionTeam', 'passResult', 'passLength', 'isDropback', 'rushLocationType', 'homeTeamWinProbabilityAdded', 'visitorTeamWinProbilityAdded', 'expectedPointsAdded', 'pff_runConceptPrimary', 'pff_runConceptSecondary', 'pff_runPassOption', 'pff_passCoverage', 'pff_manZone', 'playDescription']]\n",
    "\n",
    "merged_data = pd.merge(games_selected, plays_selected, on='gameId')\n",
    "merged_data_sorted = merged_data.sort_values(by=['gameId', 'playId'])"
   ]
  },
  {
   "cell_type": "code",
   "execution_count": 40,
   "metadata": {},
   "outputs": [],
   "source": [
    "tracking_all_weeks = pd.concat([week1, week2, week3, week4, week5, week6, week7, week8, week9], ignore_index=True)\n",
    "\n",
    "tracking_with_possession = pd.merge(\n",
    "    tracking_all_weeks,\n",
    "    merged_data_sorted[['gameId', 'playId', 'possessionTeam']],\n",
    "    on=['gameId', 'playId']\n",
    ")\n",
    "\n",
    "tracking_possession_team = tracking_with_possession[\n",
    "    tracking_with_possession['club'] == tracking_with_possession['possessionTeam']\n",
    "]\n",
    "\n",
    "total_distance_possession_team = (\n",
    "    tracking_possession_team.groupby(['gameId', 'playId'])['dis']\n",
    "    .sum()\n",
    "    .reset_index()\n",
    "    .rename(columns={'dis': 'totalDistanceTraveledByPossessionTeam'})\n",
    ")\n",
    "\n",
    "combined_data_with_distance = pd.merge(merged_data_sorted, total_distance_possession_team, on=['gameId', 'playId'], how='left')\n",
    "\n",
    "# Reordering data for better visibility\n",
    "columns_order = ['gameId', 'playId', 'totalDistanceTraveledByPossessionTeam'] + [\n",
    "    col for col in merged_data_sorted.columns if col not in ['gameId', 'playId', 'totalDistanceTraveledByPossessionTeam']\n",
    "]\n",
    "merged_data_reordered = combined_data_with_distance[columns_order]\n",
    "\n",
    "output_file = 'combined_data.csv'\n",
    "merged_data_reordered.to_csv(output_file, index=False)\n",
    "\n",
    "combined_data = pd.read_csv(output_file)\n",
    "# print(combined_data.head())"
   ]
  }
 ],
 "metadata": {
  "kernelspec": {
   "display_name": "Python 3",
   "language": "python",
   "name": "python3"
  },
  "language_info": {
   "codemirror_mode": {
    "name": "ipython",
    "version": 3
   },
   "file_extension": ".py",
   "mimetype": "text/x-python",
   "name": "python",
   "nbconvert_exporter": "python",
   "pygments_lexer": "ipython3",
   "version": "3.9.6"
  }
 },
 "nbformat": 4,
 "nbformat_minor": 2
}
