{
 "cells": [
  {
   "cell_type": "code",
   "execution_count": 5,
   "metadata": {},
   "outputs": [],
   "source": [
    "import pandas as pd\n",
    "from sklearn.model_selection import train_test_split\n",
    "from sklearn.metrics import accuracy_score\n",
    "from sklearn.ensemble import RandomForestClassifier\n",
    "from sklearn.linear_model import LogisticRegression\n",
    "from sklearn.ensemble import GradientBoostingClassifier\n",
    "from sklearn.svm import SVC\n",
    "from sklearn.tree import DecisionTreeClassifier"
   ]
  },
  {
   "cell_type": "code",
   "execution_count": 6,
   "metadata": {},
   "outputs": [],
   "source": [
    "# Load and preprocess data\n",
    "constructedData = pd.read_csv('../MAIN/Combining Data/combined_data.csv')\n",
    "categoricalFeatures = ['pff_passCoverage', 'pff_manZone']\n",
    "decisionTreeData = pd.get_dummies(constructedData, columns=categoricalFeatures)\n",
    "\n",
    "# Define features and target\n",
    "featureHeaders = ['totalDistanceTraveledByPossessionTeam', 'absoluteYardlineNumber', 'quarter', 'down', 'yardsToGo',\n",
    "                  'pff_passCoverage_2-Man', 'pff_passCoverage_Bracket', 'pff_passCoverage_Cover 6-Left',\n",
    "                  'pff_passCoverage_Cover-0', 'pff_passCoverage_Cover-1', 'pff_passCoverage_Cover-1 Double',\n",
    "                  'pff_passCoverage_Cover-2', 'pff_passCoverage_Cover-3', 'pff_passCoverage_Cover-3 Cloud Left',\n",
    "                  'pff_passCoverage_Cover-3 Cloud Right', 'pff_passCoverage_Cover-3 Double Cloud',\n",
    "                  'pff_passCoverage_Cover-3 Seam', 'pff_passCoverage_Cover-6 Right', 'pff_passCoverage_Goal Line',\n",
    "                  'pff_passCoverage_Miscellaneous', 'pff_passCoverage_Prevent', 'pff_passCoverage_Quarters',\n",
    "                  'pff_passCoverage_Red Zone', 'pff_manZone_Man', 'pff_manZone_Other', 'pff_manZone_Zone']\n",
    "X = decisionTreeData[featureHeaders]\n",
    "y = decisionTreeData['isDropback']\n",
    "\n",
    "# Train-test split\n",
    "XTrain, XTest, yTrain, yTest = train_test_split(X, y, test_size=0.3, random_state=42)"
   ]
  },
  {
   "cell_type": "code",
   "execution_count": 25,
   "metadata": {},
   "outputs": [
    {
     "name": "stdout",
     "output_type": "stream",
     "text": [
      "=== Decision Tree Classifier ===\n",
      "Accuracy of Decision Tree: 63%\n",
      "\n",
      "=== Random Forest Classifier ===\n",
      "Accuracy of Random Forest: 65%\n"
     ]
    }
   ],
   "source": [
    "# Decision Tree Classifier (Baseline)\n",
    "print(\"=== Decision Tree Classifier ===\")\n",
    "clfObj = DecisionTreeClassifier(max_depth=3)\n",
    "clf = clfObj.fit(XTrain, yTrain)\n",
    "yPred = clf.predict(XTest)\n",
    "print(f\"Accuracy of Decision Tree: {int(accuracy_score(yTest, yPred)*100)}%\")\n",
    "\n",
    "# Random Forest Classifier\n",
    "print(\"\\n=== Random Forest Classifier ===\")\n",
    "rf = RandomForestClassifier(n_estimators=100, random_state=42, bootstrap=True)\n",
    "rf.fit(XTrain, yTrain)\n",
    "yPredRF = rf.predict(XTest)\n",
    "print(f\"Accuracy of Random Forest: {int(accuracy_score(yTest, yPredRF)*100)}%\")"
   ]
  },
  {
   "cell_type": "code",
   "execution_count": 26,
   "metadata": {},
   "outputs": [
    {
     "name": "stdout",
     "output_type": "stream",
     "text": [
      "\n",
      "=== Gradient Boosting Classifier ===\n",
      "Accuracy of Gradient Boosting: 67%\n",
      "\n",
      "=== Support Vector Machine ===\n",
      "Accuracy of SVM: 65%\n"
     ]
    }
   ],
   "source": [
    "# Drop rows with NaN values\n",
    "XTrain = XTrain.dropna()\n",
    "yTrain = yTrain.loc[XTrain.index]\n",
    "XTest = XTest.dropna()\n",
    "yTest = yTest.loc[XTest.index]\n",
    "\n",
    "# Gradient Boosting Classifier (e.g., XGBoost-like approach)\n",
    "print(\"\\n=== Gradient Boosting Classifier ===\")\n",
    "gb = GradientBoostingClassifier(random_state=42)\n",
    "gb.fit(XTrain, yTrain)\n",
    "yPredGB = gb.predict(XTest)\n",
    "print(f\"Accuracy of Gradient Boosting: {int(accuracy_score(yTest, yPredGB)*100)}%\")\n",
    "\n",
    "# Support Vector Machine (SVM)\n",
    "print(\"\\n=== Support Vector Machine ===\")\n",
    "svm = SVC(kernel='linear', random_state=42)  # Linear kernel for simplicity\n",
    "svm.fit(XTrain, yTrain)\n",
    "yPredSVM = svm.predict(XTest)\n",
    "print(f\"Accuracy of SVM: {int(accuracy_score(yTest, yPredSVM)*100)}%\")"
   ]
  }
 ],
 "metadata": {
  "kernelspec": {
   "display_name": "Python 3",
   "language": "python",
   "name": "python3"
  },
  "language_info": {
   "codemirror_mode": {
    "name": "ipython",
    "version": 3
   },
   "file_extension": ".py",
   "mimetype": "text/x-python",
   "name": "python",
   "nbconvert_exporter": "python",
   "pygments_lexer": "ipython3",
   "version": "3.9.6"
  }
 },
 "nbformat": 4,
 "nbformat_minor": 2
}
