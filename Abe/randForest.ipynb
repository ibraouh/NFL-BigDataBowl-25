{
 "cells": [
  {
   "cell_type": "code",
   "execution_count": 2,
   "metadata": {},
   "outputs": [],
   "source": [
    "import pandas as pd\n",
    "from sklearn.model_selection import train_test_split\n",
    "from sklearn.metrics import accuracy_score\n",
    "from sklearn.ensemble import RandomForestClassifier\n",
    "from sklearn.linear_model import LogisticRegression\n",
    "from sklearn.ensemble import GradientBoostingClassifier\n",
    "from sklearn.svm import SVC\n",
    "from sklearn.tree import DecisionTreeClassifier"
   ]
  },
  {
   "cell_type": "code",
   "execution_count": 2,
   "metadata": {},
   "outputs": [],
   "source": [
    "# Load and preprocess data\n",
    "constructedData = pd.read_csv('../MAIN/Combining Data/combined_data.csv')\n",
    "categoricalFeatures = ['pff_passCoverage', 'pff_manZone']\n",
    "decisionTreeData = pd.get_dummies(constructedData, columns=categoricalFeatures)\n",
    "\n",
    "# Define features and target\n",
    "featureHeaders = ['totalDistanceTraveledByPossessionTeam', 'absoluteYardlineNumber', 'quarter', 'down', 'yardsToGo',\n",
    "                  'pff_passCoverage_2-Man', 'pff_passCoverage_Bracket', 'pff_passCoverage_Cover 6-Left',\n",
    "                  'pff_passCoverage_Cover-0', 'pff_passCoverage_Cover-1', 'pff_passCoverage_Cover-1 Double',\n",
    "                  'pff_passCoverage_Cover-2', 'pff_passCoverage_Cover-3', 'pff_passCoverage_Cover-3 Cloud Left',\n",
    "                  'pff_passCoverage_Cover-3 Cloud Right', 'pff_passCoverage_Cover-3 Double Cloud',\n",
    "                  'pff_passCoverage_Cover-3 Seam', 'pff_passCoverage_Cover-6 Right', 'pff_passCoverage_Goal Line',\n",
    "                  'pff_passCoverage_Miscellaneous', 'pff_passCoverage_Prevent', 'pff_passCoverage_Quarters',\n",
    "                  'pff_passCoverage_Red Zone', 'pff_manZone_Man', 'pff_manZone_Other', 'pff_manZone_Zone']\n",
    "X = decisionTreeData[featureHeaders]\n",
    "y = decisionTreeData['isDropback']\n",
    "\n",
    "# Train-test split\n",
    "XTrain, XTest, yTrain, yTest = train_test_split(X, y, test_size=0.3, random_state=42)"
   ]
  },
  {
   "cell_type": "code",
   "execution_count": 17,
   "metadata": {},
   "outputs": [],
   "source": [
    "# Load and preprocess data\n",
    "constructedData = pd.read_csv('../MAIN/Combining Data/combined_data.csv')\n",
    "categoricalFeatures = ['pff_passCoverage', 'pff_manZone']\n",
    "decisionTreeData = pd.get_dummies(constructedData, columns=categoricalFeatures)\n",
    "\n",
    "# Define features and target\n",
    "featureHeaders = ['totalDistanceTraveledByPossessionTeam', 'absoluteYardlineNumber', 'quarter', 'down', 'yardsToGo',\n",
    "                  'pff_passCoverage_2-Man', 'pff_passCoverage_Bracket', 'pff_passCoverage_Cover 6-Left',\n",
    "                  'pff_passCoverage_Cover-0', 'pff_passCoverage_Cover-1', 'pff_passCoverage_Cover-1 Double',\n",
    "                  'pff_passCoverage_Cover-2', 'pff_passCoverage_Cover-3', 'pff_passCoverage_Cover-3 Cloud Left',\n",
    "                  'pff_passCoverage_Cover-3 Cloud Right', 'pff_passCoverage_Cover-3 Double Cloud',\n",
    "                  'pff_passCoverage_Cover-3 Seam', 'pff_passCoverage_Cover-6 Right', 'pff_passCoverage_Goal Line',\n",
    "                  'pff_passCoverage_Miscellaneous', 'pff_passCoverage_Prevent', 'pff_passCoverage_Quarters',\n",
    "                  'pff_passCoverage_Red Zone', 'pff_manZone_Man', 'pff_manZone_Other', 'pff_manZone_Zone']\n",
    "\n",
    "X = decisionTreeData[featureHeaders]\n",
    "y = decisionTreeData['isDropback']\n",
    "\n",
    "# Train-test split\n",
    "XTrain, XTest, yTrain, yTest = train_test_split(X, y, test_size=0.3, random_state=42)"
   ]
  },
  {
   "cell_type": "code",
   "execution_count": null,
   "metadata": {},
   "outputs": [],
   "source": [
    "root_feature = 'totalDistanceTraveledByPossessionTeam'\n",
    "subtrees = {}\n",
    "root_values = XTrain[root_feature].unique()\n",
    "\n",
    "for value in root_values:\n",
    "    X_subset = XTrain[XTrain[root_feature] == value].drop(columns=[root_feature])\n",
    "    y_subset = yTrain[XTrain[root_feature] == value]\n",
    "\n",
    "    tree = DecisionTreeClassifier(random_state=42)\n",
    "    tree.fit(X_subset, y_subset)\n",
    "    subtrees[value] = tree\n"
   ]
  },
  {
   "cell_type": "code",
   "execution_count": 18,
   "metadata": {},
   "outputs": [
    {
     "name": "stdout",
     "output_type": "stream",
     "text": [
      "=== Decision Tree Classifier ===\n",
      "Accuracy of Decision Tree: 63%\n",
      "\n",
      "=== Random Forest Classifier ===\n",
      "Accuracy of Random Forest: 65%\n"
     ]
    }
   ],
   "source": [
    "# Decision Tree Classifier (Baseline)\n",
    "print(\"=== Decision Tree Classifier ===\")\n",
    "clfObj = DecisionTreeClassifier(max_depth=3)\n",
    "clf = clfObj.fit(XTrain, yTrain)\n",
    "yPred = clf.predict(XTest)\n",
    "print(f\"Accuracy of Decision Tree: {int(accuracy_score(yTest, yPred)*100)}%\")\n",
    "\n",
    "# Random Forest Classifier\n",
    "print(\"\\n=== Random Forest Classifier ===\")\n",
    "rf = RandomForestClassifier(n_estimators=100, random_state=42, bootstrap=True)\n",
    "rf.fit(XTrain, yTrain)\n",
    "yPredRF = rf.predict(XTest)\n",
    "print(f\"Accuracy of Random Forest: {int(accuracy_score(yTest, yPredRF)*100)}%\")"
   ]
  },
  {
   "cell_type": "code",
   "execution_count": 25,
   "metadata": {},
   "outputs": [
    {
     "name": "stdout",
     "output_type": "stream",
     "text": [
      "['QB' 'T' 'TE' 'WR' 'DE' 'NT' 'SS' 'FS' 'G' 'OLB' 'DT' 'CB' 'RB' 'C' 'ILB'\n",
      " 'MLB' 'FB' 'DB' 'LB']\n"
     ]
    }
   ],
   "source": [
    "import pandas as pd\n",
    "\n",
    "# Read the CSV file\n",
    "df = pd.read_csv(\"../../Data/players.csv\")\n",
    "\n",
    "# Get unique values from a specific column\n",
    "unique_values = df[\"position\"].unique()\n",
    "\n",
    "print(unique_values)"
   ]
  }
 ],
 "metadata": {
  "kernelspec": {
   "display_name": "Python 3",
   "language": "python",
   "name": "python3"
  },
  "language_info": {
   "codemirror_mode": {
    "name": "ipython",
    "version": 3
   },
   "file_extension": ".py",
   "mimetype": "text/x-python",
   "name": "python",
   "nbconvert_exporter": "python",
   "pygments_lexer": "ipython3",
   "version": "3.9.6"
  }
 },
 "nbformat": 4,
 "nbformat_minor": 2
}
